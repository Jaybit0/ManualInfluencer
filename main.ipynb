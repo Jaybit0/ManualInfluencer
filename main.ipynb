{
 "cells": [
  {
   "cell_type": "markdown",
   "metadata": {},
   "source": [
    "# Integration\n",
    "\n",
    "Programmatically\n",
    "\n",
    "**Input:** Text and PDF\n",
    "\n",
    "**Intermediate:**\n",
    "\n",
    "- Scene generation (Text)\n",
    "- Segmentation of the scene\n",
    "- Separate scene into multiple images\n",
    "- Audio\n",
    "- Music\n",
    "\n",
    "**Output:** Video (images) with audio\n"
   ]
  },
  {
   "cell_type": "markdown",
   "metadata": {},
   "source": [
    "## Setup\n"
   ]
  },
  {
   "cell_type": "code",
   "execution_count": 1,
   "metadata": {
    "ExecuteTime": {
     "end_time": "2025-04-01T15:30:08.759525500Z",
     "start_time": "2025-04-01T15:30:08.743525Z"
    }
   },
   "outputs": [],
   "source": [
    "# First-time setup:\n",
    "# https://cloud.google.com/text-to-speech/docs/create-audio-text-client-libraries#client-libraries-install-python\n",
    "# gcloud init\n",
    "# poetry init\n",
    "# poetry add google-cloud-texttospeech"
   ]
  },
  {
   "cell_type": "markdown",
   "metadata": {},
   "source": [
    "## Constants\n"
   ]
  },
  {
   "cell_type": "code",
   "execution_count": 2,
   "metadata": {
    "ExecuteTime": {
     "end_time": "2025-04-01T15:30:11.084060300Z",
     "start_time": "2025-04-01T15:30:11.062989700Z"
    }
   },
   "outputs": [],
   "source": [
    "GCP_PROJECT_ID = \"manualinfluencer\"\n",
    "BUCKET_NAME = \"manual-influencer-manuals\""
   ]
  },
  {
   "cell_type": "code",
   "execution_count": 3,
   "metadata": {
    "ExecuteTime": {
     "end_time": "2025-04-01T15:30:11.496204200Z",
     "start_time": "2025-04-01T15:30:11.475209400Z"
    }
   },
   "outputs": [],
   "source": [
    "PDF_FILE_NAME = \"StaubMeister_DustPro2000_Bedienungsanleitung.pdf\"\n",
    "TEXT_AND_PDF_TO_SCENES_PROMPT = \"\"\"Erstelle ein Skript für PowerLine webcast3 ein absurd-lustiges TikTok-Video basierend auf der Bedienungsanleitung. Der Sprecher spricht in einer neutralen, männlichen Stimme. Es soll eine kurze unterhaltsame Geschichte sein. Der Humor in dem Video besteht darin, die spezifischen Worte aus der Bedienungsanleitung in absurden Situationen wieder zu finden. Die Geschichte soll interessant, unterhaltsam und random sein. Alles ist sehr satirisch aufgeladen. Das Video ist insgesamt sehr kurz, so 10-20s. Der Text ist wichtiger als die visuellen Elemente. Der Sprecher kann seine Stimme nicht verstellen. Der erste Satz ist der wichtigste. Er soll catchy sein und direkt in die situation einsteigen, keine einleitung und kein Schluss. Die Geschichte geht schnell vorran, wenige Floskeln\"\"\""
   ]
  },
  {
   "cell_type": "markdown",
   "metadata": {},
   "source": [
    "## Retrieve PDF from Google Cloud Storage\n",
    "\n",
    "Returns 64-bit encoded PDF file from Google Cloud Storage.\n"
   ]
  },
  {
   "cell_type": "code",
   "execution_count": 4,
   "metadata": {
    "ExecuteTime": {
     "end_time": "2025-04-01T15:30:20.514499600Z",
     "start_time": "2025-04-01T15:30:12.613012800Z"
    }
   },
   "outputs": [
    {
     "name": "stdout",
     "output_type": "stream",
     "text": [
      "Downloaded and encoded StaubMeister_DustPro2000_Bedienungsanleitung.pdf\n"
     ]
    }
   ],
   "source": [
    "import base64\n",
    "from google.cloud import storage\n",
    "\n",
    "# Instantiates a client\n",
    "storage_client = storage.Client()\n",
    "\n",
    "# The name for the bucket\n",
    "bucket_name = BUCKET_NAME\n",
    "\n",
    "# Get bucket\n",
    "bucket = storage_client.bucket(bucket_name)\n",
    "\n",
    "# Specify the blob name\n",
    "blob_name = PDF_FILE_NAME\n",
    "\n",
    "# Get blob\n",
    "blob = bucket.blob(blob_name)\n",
    "\n",
    "# Download as bytes and encode to base64\n",
    "content = blob.download_as_bytes()\n",
    "base64_content = base64.b64encode(content).decode(\"utf-8\")\n",
    "\n",
    "print(f\"Downloaded and encoded {blob_name}\")"
   ]
  },
  {
   "cell_type": "markdown",
   "metadata": {},
   "source": [
    "## Text-and-PDF-to-Text\n"
   ]
  },
  {
   "cell_type": "code",
   "execution_count": 6,
   "metadata": {
    "ExecuteTime": {
     "end_time": "2025-04-01T15:32:23.721218200Z",
     "start_time": "2025-04-01T15:32:13.865193Z"
    }
   },
   "outputs": [
    {
     "name": "stdout",
     "output_type": "stream",
     "text": [
      "Okay, hier ist ein TikTok-Video-Skript, das auf deiner Anfrage basiert:\n",
      "\n",
      "**Titel:** StaubMeister: Eine Bedienungsanleitungs-Oper\n",
      "\n",
      "**(Visuell:  Sprecher mit StaubMeister-Produkt, leicht verwirrt wirkend. Kamera stabil und einfach.)**\n",
      "\n",
      "**(Ton: Neutrale, männliche Stimme, schneller Sprechstil, leicht monoton.)**\n",
      "\n",
      "**Sprecher:** \"Herzlichen Glückwunsch zum Kauf Ihres StaubMeister-Produkts! Ziehen Sie vor Wartungsarbeiten immer den Netzstecker! Ich meine, WIRKLICH IMMER! Sogar wenn Sie Ihren Staubsauger heiraten wollen. Saugen Sie keine Flüssigkeiten oder heißen Gegenstände auf! Das gilt auch für Lava, oder Tränen der Enttäuschung nach der Hochzeit. Halten Sie Kinder vom Gerät fern, vor allem wenn sie sich als kleine Staubsauger-Mörder entpuppen. Schalten Sie das Gerät mit dem Ein-/Ausschalter ein! Aber NUR mit dem Ein-/Ausschalter! Sonst explodiert die Gans!\"\n",
      "\n",
      "**(Visuell: Sprecher zeigt kurz auf den Ein-/Ausschalter, blickt dann leicht panisch in die Kamera. )**\n",
      "\n",
      "**Sprecher:** \"Entleeren Sie den Behälter über einem Mülleimer… oder über dem Kopf Ihres Ex! Aber das steht nicht in der Bedienungsanleitung! Das war ein Scherz! Der HEPA-Filter sollte alle 3 Monate gewechselt werden! Weil sonst die Illuminaten kommen!\"\n",
      "\n",
      "**(Visuell: Sprecher zuckt die Achseln und schaut mit einem gequälten Grinsen in die Kamera.)**\n"
     ]
    }
   ],
   "source": [
    "# Setup\n",
    "# pip install --upgrade google-genai\n",
    "# gcloud auth application-default login\n",
    "\n",
    "from google import genai\n",
    "from google.genai import types\n",
    "import base64\n",
    "\n",
    "\n",
    "def generate():\n",
    "    client = genai.Client(\n",
    "        vertexai=True,\n",
    "        project=GCP_PROJECT_ID,\n",
    "        location=\"global\",\n",
    "    )\n",
    "\n",
    "    document1 = types.Part.from_bytes(\n",
    "        data=base64.b64decode(f\"\"\"{base64_content}\"\"\"),\n",
    "        mime_type=\"application/pdf\",\n",
    "    )\n",
    "    text1 = types.Part.from_text(text=TEXT_AND_PDF_TO_SCENES_PROMPT)\n",
    "\n",
    "    model = \"gemini-2.0-flash-001\"\n",
    "    contents = [types.Content(role=\"user\", parts=[document1, text1])]\n",
    "    generate_content_config = types.GenerateContentConfig(\n",
    "        temperature=1,\n",
    "        top_p=0.95,\n",
    "        max_output_tokens=8192,\n",
    "        response_modalities=[\"TEXT\"],\n",
    "        safety_settings=[\n",
    "            types.SafetySetting(category=\"HARM_CATEGORY_HATE_SPEECH\", threshold=\"OFF\"),\n",
    "            types.SafetySetting(\n",
    "                category=\"HARM_CATEGORY_DANGEROUS_CONTENT\", threshold=\"OFF\"\n",
    "            ),\n",
    "            types.SafetySetting(\n",
    "                category=\"HARM_CATEGORY_SEXUALLY_EXPLICIT\", threshold=\"OFF\"\n",
    "            ),\n",
    "            types.SafetySetting(category=\"HARM_CATEGORY_HARASSMENT\", threshold=\"OFF\"),\n",
    "        ],\n",
    "    )\n",
    "\n",
    "    text_output = \"\"\n",
    "    for chunk in client.models.generate_content_stream(\n",
    "        model=model,\n",
    "        contents=contents,\n",
    "        config=generate_content_config,\n",
    "    ):\n",
    "        text_output += chunk.text\n",
    "        print(chunk.text, end=\"\")\n",
    "    return text_output\n",
    "\n",
    "\n",
    "script_text = generate()"
   ]
  },
  {
   "cell_type": "markdown",
   "metadata": {},
   "source": [
    "## Text-to-Speech\n"
   ]
  },
  {
   "cell_type": "code",
   "execution_count": 8,
   "metadata": {
    "ExecuteTime": {
     "end_time": "2025-04-01T15:41:43.256385400Z",
     "start_time": "2025-04-01T15:41:37.120276300Z"
    }
   },
   "outputs": [
    {
     "name": "stdout",
     "output_type": "stream",
     "text": [
      "Audio content written to file \"output.mp3\"\n"
     ]
    }
   ],
   "source": [
    "\"\"\"Synthesizes speech from the input string of text or ssml.\n",
    "Make sure to be working in a virtual environment.\n",
    "\n",
    "Note: ssml must be well-formed according to:\n",
    "    https://www.w3.org/TR/speech-synthesis/\n",
    "\"\"\"\n",
    "from google.cloud import texttospeech\n",
    "\n",
    "# Instantiates a client\n",
    "client = texttospeech.TextToSpeechClient()\n",
    "\n",
    "# Set the text input to be synthesized\n",
    "synthesis_input = texttospeech.SynthesisInput(\n",
    "    text=\"Hello! Today I would like to talk to you about TechniSat\"\n",
    ")\n",
    "\n",
    "# Build the voice request, select the language code (\"en-US\") and the ssml\n",
    "# voice gender (\"neutral\")\n",
    "voice = texttospeech.VoiceSelectionParams(\n",
    "    language_code=\"en-US\", ssml_gender=texttospeech.SsmlVoiceGender.NEUTRAL\n",
    ")\n",
    "\n",
    "# Select the type of audio file you want returned\n",
    "audio_config = texttospeech.AudioConfig(audio_encoding=texttospeech.AudioEncoding.MP3)\n",
    "\n",
    "# Perform the text-to-speech request on the text input with the selected\n",
    "# voice parameters and audio file type\n",
    "response = client.synthesize_speech(\n",
    "    input=synthesis_input, voice=voice, audio_config=audio_config\n",
    ")\n",
    "\n",
    "# The response's audio_content is binary.\n",
    "with open(\"output.mp3\", \"wb\") as out:\n",
    "    # Write the response to the output file.\n",
    "    out.write(response.audio_content)\n",
    "    print('Audio content written to file \"output.mp3\"')"
   ]
  },
  {
   "cell_type": "code",
   "execution_count": 9,
   "metadata": {
    "tags": [],
    "ExecuteTime": {
     "end_time": "2025-04-01T15:42:44.479806400Z",
     "start_time": "2025-04-01T15:42:31.766408200Z"
    }
   },
   "outputs": [],
   "source": [
    "import cv2\n",
    "import os\n",
    "import subprocess\n",
    "import imageio_ffmpeg\n",
    "import ffmpeg\n",
    "\n",
    "def generate_video(image_folder = 'data/images', audio_file = './data/synthesis.wav'):\n",
    "    os.remove('./finished_video.mp4')\n",
    "    os.remove('./video.avi')\n",
    "    os.remove('./video.mp4')\n",
    "\n",
    "    images = [img for img in os.listdir(image_folder) if img.endswith(\".png\")]\n",
    "    frame = cv2.imread(os.path.join(image_folder, images[0]))\n",
    "    height, width, layers = frame.shape\n",
    "\n",
    "    video = cv2.VideoWriter('./video.avi', 0, 1, (width,height))\n",
    "\n",
    "    for image in images:\n",
    "        video.write(cv2.imread(os.path.join(image_folder, image)))\n",
    "\n",
    "    #cv2.destroyAllWindows()\n",
    "    video.release()\n",
    "\n",
    "\n",
    "\n",
    "    ffmpeg_exe = imageio_ffmpeg.get_ffmpeg_exe()\n",
    "    subprocess.run([\n",
    "        ffmpeg_exe,\n",
    "        '-y',               # overwrite output if exists\n",
    "        '-i', 'video.avi',  # input video\n",
    "        '-c:v', 'libx264',  # video codec\n",
    "        '-c:a', 'aac',      # audio codec\n",
    "        '-shortest',        # finish when the shorter stream ends\n",
    "        'video.mp4'         # output file\n",
    "    ])\n",
    "\n",
    "    input_video = ffmpeg.input('./video.mp4')\n",
    "\n",
    "    input_audio = ffmpeg.input(audio_file)\n",
    "\n",
    "    ffmpeg.concat(input_video, input_audio, v=1, a=1).output('finished_video.mp4').run(cmd=ffmpeg_exe)\n",
    "    os.remove('./video.avi')\n",
    "    os.remove('./video.mp4')"
   ]
  },
  {
   "cell_type": "code",
   "execution_count": 10,
   "metadata": {
    "tags": [],
    "ExecuteTime": {
     "end_time": "2025-04-01T15:43:08.129673Z",
     "start_time": "2025-04-01T15:43:08.036674500Z"
    }
   },
   "outputs": [],
   "source": [
    "import ffmpeg\n",
    "import imageio_ffmpeg\n",
    "import os\n",
    "\n",
    "def concat_videos(video_paths, output_path='concatenated.mp4'):\n",
    "    # Create the concat input text file\n",
    "    with open('concat_list.txt', 'w') as f:\n",
    "        for path in video_paths:\n",
    "            f.write(f\"file '{os.path.abspath(path)}'\\n\")\n",
    "\n",
    "    ffmpeg_exe = imageio_ffmpeg.get_ffmpeg_exe()\n",
    "\n",
    "    # Run ffmpeg concat\n",
    "    subprocess.run([\n",
    "        ffmpeg_exe,\n",
    "        '-f', 'concat',\n",
    "        '-safe', '0',\n",
    "        '-i', 'concat_list.txt',\n",
    "        '-c', 'copy',\n",
    "        output_path\n",
    "    ])\n",
    "\n",
    "    os.remove('concat_list.txt')\n",
    "    \n",
    "#concat_videos(['./test_data/finished_video(3).mp4', './test_data/finished_video(2).mp4'], output_path='./test_data/out.mp4')"
   ]
  },
  {
   "cell_type": "code",
   "execution_count": null,
   "outputs": [],
   "source": [],
   "metadata": {
    "collapsed": false
   }
  }
 ],
 "metadata": {
  "environment": {
   "kernel": "conda-base-py",
   "name": "workbench-notebooks.m129",
   "type": "gcloud",
   "uri": "us-docker.pkg.dev/deeplearning-platform-release/gcr.io/workbench-notebooks:m129"
  },
  "kernelspec": {
   "name": "python3",
   "language": "python",
   "display_name": "Python 3 (ipykernel)"
  },
  "language_info": {
   "codemirror_mode": {
    "name": "ipython",
    "version": 3
   },
   "file_extension": ".py",
   "mimetype": "text/x-python",
   "name": "python",
   "nbconvert_exporter": "python",
   "pygments_lexer": "ipython3",
   "version": "3.10.16"
  }
 },
 "nbformat": 4,
 "nbformat_minor": 4
}
