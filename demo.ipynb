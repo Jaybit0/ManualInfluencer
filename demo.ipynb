{
 "cells": [
  {
   "cell_type": "code",
   "execution_count": null,
   "metadata": {},
   "outputs": [],
   "source": [
    "from manual_influencer import constants, script_generator\n",
    "\n",
    "script_generator.generate_script(text=constants.TEXT_AND_PDF_TO_SCENES_PROMPT)"
   ]
  },
  {
   "cell_type": "code",
   "execution_count": null,
   "metadata": {},
   "outputs": [],
   "source": [
    "from manual_influencer.tts import synthesize_speech\n",
    "\n",
    "synthesize_speech(text=\"Hello world\")"
   ]
  }
 ],
 "metadata": {
  "language_info": {
   "name": "python"
  }
 },
 "nbformat": 4,
 "nbformat_minor": 2
}
